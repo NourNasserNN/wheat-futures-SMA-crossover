{
 "cells": [
  {
   "cell_type": "code",
   "execution_count": 15,
   "id": "5fe20288",
   "metadata": {},
   "outputs": [],
   "source": [
    "import yfinance as yf\n",
    "import pandas as pd \n",
    "import numpy as np\n",
    "import matplotlib.pyplot as plt"
   ]
  },
  {
   "cell_type": "code",
   "execution_count": 16,
   "id": "9fc8512d",
   "metadata": {},
   "outputs": [
    {
     "name": "stderr",
     "output_type": "stream",
     "text": [
      "[*********************100%***********************]  1 of 1 completed\n"
     ]
    }
   ],
   "source": [
    "wheat_futures = yf.download('ZW=F',start='2020-01-01')"
   ]
  },
  {
   "cell_type": "code",
   "execution_count": 17,
   "id": "f12d70d4",
   "metadata": {},
   "outputs": [
    {
     "data": {
      "text/html": [
       "<div>\n",
       "<style scoped>\n",
       "    .dataframe tbody tr th:only-of-type {\n",
       "        vertical-align: middle;\n",
       "    }\n",
       "\n",
       "    .dataframe tbody tr th {\n",
       "        vertical-align: top;\n",
       "    }\n",
       "\n",
       "    .dataframe thead tr th {\n",
       "        text-align: left;\n",
       "    }\n",
       "\n",
       "    .dataframe thead tr:last-of-type th {\n",
       "        text-align: right;\n",
       "    }\n",
       "</style>\n",
       "<table border=\"1\" class=\"dataframe\">\n",
       "  <thead>\n",
       "    <tr>\n",
       "      <th>Price</th>\n",
       "      <th>Close</th>\n",
       "      <th>High</th>\n",
       "      <th>Low</th>\n",
       "      <th>Open</th>\n",
       "      <th>Volume</th>\n",
       "    </tr>\n",
       "    <tr>\n",
       "      <th>Ticker</th>\n",
       "      <th>ZW=F</th>\n",
       "      <th>ZW=F</th>\n",
       "      <th>ZW=F</th>\n",
       "      <th>ZW=F</th>\n",
       "      <th>ZW=F</th>\n",
       "    </tr>\n",
       "    <tr>\n",
       "      <th>Date</th>\n",
       "      <th></th>\n",
       "      <th></th>\n",
       "      <th></th>\n",
       "      <th></th>\n",
       "      <th></th>\n",
       "    </tr>\n",
       "  </thead>\n",
       "  <tbody>\n",
       "    <tr>\n",
       "      <th>2020-01-02</th>\n",
       "      <td>560.25</td>\n",
       "      <td>567.50</td>\n",
       "      <td>558.25</td>\n",
       "      <td>559.50</td>\n",
       "      <td>49931</td>\n",
       "    </tr>\n",
       "    <tr>\n",
       "      <th>2020-01-03</th>\n",
       "      <td>554.50</td>\n",
       "      <td>562.00</td>\n",
       "      <td>551.75</td>\n",
       "      <td>560.75</td>\n",
       "      <td>44180</td>\n",
       "    </tr>\n",
       "    <tr>\n",
       "      <th>2020-01-06</th>\n",
       "      <td>550.00</td>\n",
       "      <td>555.25</td>\n",
       "      <td>546.75</td>\n",
       "      <td>552.50</td>\n",
       "      <td>47904</td>\n",
       "    </tr>\n",
       "    <tr>\n",
       "      <th>2020-01-07</th>\n",
       "      <td>550.25</td>\n",
       "      <td>551.00</td>\n",
       "      <td>545.50</td>\n",
       "      <td>549.50</td>\n",
       "      <td>41346</td>\n",
       "    </tr>\n",
       "    <tr>\n",
       "      <th>2020-01-08</th>\n",
       "      <td>552.75</td>\n",
       "      <td>555.75</td>\n",
       "      <td>545.25</td>\n",
       "      <td>549.50</td>\n",
       "      <td>51322</td>\n",
       "    </tr>\n",
       "  </tbody>\n",
       "</table>\n",
       "</div>"
      ],
      "text/plain": [
       "Price        Close    High     Low    Open Volume\n",
       "Ticker        ZW=F    ZW=F    ZW=F    ZW=F   ZW=F\n",
       "Date                                             \n",
       "2020-01-02  560.25  567.50  558.25  559.50  49931\n",
       "2020-01-03  554.50  562.00  551.75  560.75  44180\n",
       "2020-01-06  550.00  555.25  546.75  552.50  47904\n",
       "2020-01-07  550.25  551.00  545.50  549.50  41346\n",
       "2020-01-08  552.75  555.75  545.25  549.50  51322"
      ]
     },
     "execution_count": 17,
     "metadata": {},
     "output_type": "execute_result"
    }
   ],
   "source": [
    "wheat_futures.head()"
   ]
  },
  {
   "cell_type": "code",
   "execution_count": 18,
   "id": "a2431f4d",
   "metadata": {},
   "outputs": [],
   "source": [
    "wheat_futures.rename(columns={\n",
    "    'Close':'close',\n",
    "    'High':'high',\n",
    "    'Low':'low',\n",
    "    'Open':'open',\n",
    "    'Volume':'volume'\n",
    "    \n",
    "}, inplace=True)"
   ]
  },
  {
   "cell_type": "code",
   "execution_count": 19,
   "id": "a41287f4",
   "metadata": {},
   "outputs": [
    {
     "data": {
      "text/html": [
       "<div>\n",
       "<style scoped>\n",
       "    .dataframe tbody tr th:only-of-type {\n",
       "        vertical-align: middle;\n",
       "    }\n",
       "\n",
       "    .dataframe tbody tr th {\n",
       "        vertical-align: top;\n",
       "    }\n",
       "\n",
       "    .dataframe thead tr th {\n",
       "        text-align: left;\n",
       "    }\n",
       "\n",
       "    .dataframe thead tr:last-of-type th {\n",
       "        text-align: right;\n",
       "    }\n",
       "</style>\n",
       "<table border=\"1\" class=\"dataframe\">\n",
       "  <thead>\n",
       "    <tr>\n",
       "      <th>Price</th>\n",
       "      <th>close</th>\n",
       "      <th>high</th>\n",
       "      <th>low</th>\n",
       "      <th>open</th>\n",
       "      <th>volume</th>\n",
       "    </tr>\n",
       "    <tr>\n",
       "      <th>Ticker</th>\n",
       "      <th>ZW=F</th>\n",
       "      <th>ZW=F</th>\n",
       "      <th>ZW=F</th>\n",
       "      <th>ZW=F</th>\n",
       "      <th>ZW=F</th>\n",
       "    </tr>\n",
       "    <tr>\n",
       "      <th>Date</th>\n",
       "      <th></th>\n",
       "      <th></th>\n",
       "      <th></th>\n",
       "      <th></th>\n",
       "      <th></th>\n",
       "    </tr>\n",
       "  </thead>\n",
       "  <tbody>\n",
       "    <tr>\n",
       "      <th>2020-01-02</th>\n",
       "      <td>560.25</td>\n",
       "      <td>567.50</td>\n",
       "      <td>558.25</td>\n",
       "      <td>559.50</td>\n",
       "      <td>49931</td>\n",
       "    </tr>\n",
       "    <tr>\n",
       "      <th>2020-01-03</th>\n",
       "      <td>554.50</td>\n",
       "      <td>562.00</td>\n",
       "      <td>551.75</td>\n",
       "      <td>560.75</td>\n",
       "      <td>44180</td>\n",
       "    </tr>\n",
       "    <tr>\n",
       "      <th>2020-01-06</th>\n",
       "      <td>550.00</td>\n",
       "      <td>555.25</td>\n",
       "      <td>546.75</td>\n",
       "      <td>552.50</td>\n",
       "      <td>47904</td>\n",
       "    </tr>\n",
       "    <tr>\n",
       "      <th>2020-01-07</th>\n",
       "      <td>550.25</td>\n",
       "      <td>551.00</td>\n",
       "      <td>545.50</td>\n",
       "      <td>549.50</td>\n",
       "      <td>41346</td>\n",
       "    </tr>\n",
       "    <tr>\n",
       "      <th>2020-01-08</th>\n",
       "      <td>552.75</td>\n",
       "      <td>555.75</td>\n",
       "      <td>545.25</td>\n",
       "      <td>549.50</td>\n",
       "      <td>51322</td>\n",
       "    </tr>\n",
       "  </tbody>\n",
       "</table>\n",
       "</div>"
      ],
      "text/plain": [
       "Price        close    high     low    open volume\n",
       "Ticker        ZW=F    ZW=F    ZW=F    ZW=F   ZW=F\n",
       "Date                                             \n",
       "2020-01-02  560.25  567.50  558.25  559.50  49931\n",
       "2020-01-03  554.50  562.00  551.75  560.75  44180\n",
       "2020-01-06  550.00  555.25  546.75  552.50  47904\n",
       "2020-01-07  550.25  551.00  545.50  549.50  41346\n",
       "2020-01-08  552.75  555.75  545.25  549.50  51322"
      ]
     },
     "execution_count": 19,
     "metadata": {},
     "output_type": "execute_result"
    }
   ],
   "source": [
    "wheat_futures.head()"
   ]
  },
  {
   "cell_type": "code",
   "execution_count": 20,
   "id": "50f15130",
   "metadata": {},
   "outputs": [
    {
     "data": {
      "text/html": [
       "<div>\n",
       "<style scoped>\n",
       "    .dataframe tbody tr th:only-of-type {\n",
       "        vertical-align: middle;\n",
       "    }\n",
       "\n",
       "    .dataframe tbody tr th {\n",
       "        vertical-align: top;\n",
       "    }\n",
       "\n",
       "    .dataframe thead th {\n",
       "        text-align: right;\n",
       "    }\n",
       "</style>\n",
       "<table border=\"1\" class=\"dataframe\">\n",
       "  <thead>\n",
       "    <tr style=\"text-align: right;\">\n",
       "      <th>Ticker</th>\n",
       "      <th>ZW=F</th>\n",
       "    </tr>\n",
       "    <tr>\n",
       "      <th>Date</th>\n",
       "      <th></th>\n",
       "    </tr>\n",
       "  </thead>\n",
       "  <tbody>\n",
       "    <tr>\n",
       "      <th>2020-01-02</th>\n",
       "      <td>560.25</td>\n",
       "    </tr>\n",
       "    <tr>\n",
       "      <th>2020-01-03</th>\n",
       "      <td>554.50</td>\n",
       "    </tr>\n",
       "    <tr>\n",
       "      <th>2020-01-06</th>\n",
       "      <td>550.00</td>\n",
       "    </tr>\n",
       "    <tr>\n",
       "      <th>2020-01-07</th>\n",
       "      <td>550.25</td>\n",
       "    </tr>\n",
       "    <tr>\n",
       "      <th>2020-01-08</th>\n",
       "      <td>552.75</td>\n",
       "    </tr>\n",
       "  </tbody>\n",
       "</table>\n",
       "</div>"
      ],
      "text/plain": [
       "Ticker        ZW=F\n",
       "Date              \n",
       "2020-01-02  560.25\n",
       "2020-01-03  554.50\n",
       "2020-01-06  550.00\n",
       "2020-01-07  550.25\n",
       "2020-01-08  552.75"
      ]
     },
     "execution_count": 20,
     "metadata": {},
     "output_type": "execute_result"
    }
   ],
   "source": [
    "wheat_futures['close'].head()"
   ]
  },
  {
   "cell_type": "code",
   "execution_count": 21,
   "id": "80ef24f1",
   "metadata": {},
   "outputs": [],
   "source": [
    "wheat_futures['SMA 20'] = wheat_futures['close'].rolling(window=20).mean()\n",
    "wheat_futures['SMA 50'] = wheat_futures['close'].rolling(window=50).mean()"
   ]
  },
  {
   "cell_type": "code",
   "execution_count": 25,
   "id": "dfa15bce",
   "metadata": {},
   "outputs": [
    {
     "data": {
      "text/plain": [
       "<Figure size 1200x600 with 0 Axes>"
      ]
     },
     "metadata": {},
     "output_type": "display_data"
    },
    {
     "data": {
      "image/png": "[encoded data removed]",
      "text/plain": [
       "<Figure size 640x480 with 1 Axes>"
      ]
     },
     "metadata": {},
     "output_type": "display_data"
    }
   ],
   "source": [
    "plt.figure(figsize=(12,6))\n",
    "wheat_futures['close'].plot(label='close', title='wheat futures crossover with simple moving averages')\n",
    "wheat_futures['SMA 20'].plot(label='SMA 20')\n",
    "wheat_futures['SMA 50'].plot(label='SMA 50')\n",
    "plt.xlabel(\"Date\")\n",
    "plt.ylabel(\"Price(USD)\")\n",
    "plt.legend()\n",
    "plt.show()\n"
   ]
  },
  {
   "cell_type": "code",
   "execution_count": null,
   "id": "3efb7ce8",
   "metadata": {},
   "outputs": [],
   "source": []
  }
 ],
 "metadata": {
  "kernelspec": {
   "display_name": "Python 3 (ipykernel)",
   "language": "python",
   "name": "python3"
  },
  "language_info": {
   "codemirror_mode": {
    "name": "ipython",
    "version": 3
   },
   "file_extension": ".py",
   "mimetype": "text/x-python",
   "name": "python",
   "nbconvert_exporter": "python",
   "pygments_lexer": "ipython3",
   "version": "3.11.7"
  }
 },
 "nbformat": 4,
 "nbformat_minor": 5
}
